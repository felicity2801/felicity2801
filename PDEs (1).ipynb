{
 "cells": [
  {
   "cell_type": "markdown",
   "metadata": {},
   "source": [
    "# Solutions to PDEs  #"
   ]
  },
  {
   "cell_type": "markdown",
   "metadata": {},
   "source": [
    "## 2D Wave Equation ##\n",
    "\n",
    "The wave equation is \n",
    "\n",
    "$$ \\nabla^2 \\phi = \\frac{1}{c^2} \\frac{\\partial^2\\phi}{\\partial t}^2 $$\n",
    "\n",
    "For a rectangular membrane held at $x=0,a$ and $y=0,b$ the solution\n",
    "separates in rectangular coordinates to give\n",
    "\n",
    "$$\\phi = \\phi_0 \\sin (k_x x)\\sin(k_y y)\\cos(\\omega t + \\delta)$$\n",
    "\n",
    "with $k_x = n\\pi/a$, $k_y = m\\pi/b$ and $\\omega^2/c^2 = k_x^2+k_y^2$. The arbitrary \n",
    "amplitude and phase parameters $\\phi_0$ and $\\delta$ are of course set by the\n",
    "initial conditions.\n",
    "\n",
    "Note: since $\\phi(k_x,k_y)$ is a solution to this linear equation, in general\n",
    "a full solution is of the form $\\sum \\phi(k_x,k_y)$ i.e. a sum over\n",
    "components with different wavelengths \n",
    "(each with appropriate constants to match the initial \n",
    "conditions). Also note that each component has a different\n",
    "time dependence.\n",
    "\n",
    "Here we plot the spatial part of $\\phi$. "
   ]
  },
  {
   "cell_type": "code",
   "execution_count": null,
   "metadata": {},
   "outputs": [],
   "source": [
    "# Import maths and plotting modules\n",
    "from math import *\n",
    "import numpy as np\n",
    "from matplotlib import cm\n",
    "import matplotlib.pyplot as plt\n",
    "from mpl_toolkits.mplot3d import Axes3D  # noqa: F401 unused import\n",
    "from scipy import special as spc"
   ]
  },
  {
   "cell_type": "code",
   "execution_count": null,
   "metadata": {},
   "outputs": [],
   "source": [
    "# Function to plot arbitary excitations on rectangular membrane\n",
    "def plotRectMembrane(nX,nY):\n",
    "    # Some parameters (note size only really changes scale on axis)\n",
    "    sizeX,sizeY = 1,2\n",
    "    amplitude = 1\n",
    "    nPoints = 500\n",
    "\n",
    "    # Calculate wavenumbers\n",
    "    kx = nX*pi/sizeX\n",
    "    ky = nY*pi/sizeY\n",
    "\n",
    "    xPoints = np.linspace(0,sizeX,nPoints)\n",
    "    yPoints = np.linspace(0,sizeY,nPoints)\n",
    "    X,Y = np.meshgrid(xPoints,yPoints)\n",
    "    Z = amplitude*np.sin(kx*X)*np.sin(ky*Y)\n",
    "\n",
    "    fig = plt.figure()\n",
    "    ax = fig.gca(projection='3d')\n",
    "    ax.plot_surface(X,Y,Z,cmap=cm.hsv)\n",
    "\n",
    "    "
   ]
  },
  {
   "cell_type": "code",
   "execution_count": null,
   "metadata": {},
   "outputs": [],
   "source": [
    "# Plot rectangular drum for given coefficients\n",
    "n = 2\n",
    "m = 3\n",
    "\n",
    "plotRectMembrane(n,m)\n",
    "plt.show()"
   ]
  },
  {
   "cell_type": "markdown",
   "metadata": {},
   "source": [
    "## Legendre Polynomials and Spherical Harmonics ##\n",
    "\n",
    "The Legendre polynomials $P_l(x)$ are solutions to Legendre's equation:\n",
    "\n",
    "$$ (1-x^2)\\frac{d^2P_l}{dx^2}-2x\\frac{d P_l}{dx}+l(l+1)P_l = 0 $$\n",
    "\n",
    "and are orthogonal over the range $-1\\le x \\le 1$. \n",
    "\n",
    "They are frequently encountered when solving 3D PDEs by\n",
    "separating variables in spherical \n",
    "coordinates, since the dependence on the polar angle in cases \n",
    "with azimuthal symmetry is given\n",
    "by the above equation with $x = \\cos\\theta$."
   ]
  },
  {
   "cell_type": "code",
   "execution_count": null,
   "metadata": {},
   "outputs": [],
   "source": [
    "# Plot Legendre polynomial of order l\n",
    "def plotLegendre(l):\n",
    "    nPoints = 500\n",
    "    xValues = np.linspace(-1,1,nPoints)\n",
    "    plt.plot(xValues,spc.lpmv(0,l,xValues),label='l='+str(l))\n",
    "    \n",
    "plotLegendre(0)\n",
    "plotLegendre(1)\n",
    "plotLegendre(2)\n",
    "plt.grid()\n",
    "plt.legend()\n",
    "plt.show()"
   ]
  },
  {
   "cell_type": "markdown",
   "metadata": {},
   "source": [
    "In the $r-\\theta$ plane, the values of $P_l(\\cos\\theta)$ can be seen to be the potential due to the multpole of order $2^l$ \n",
    "\n",
    "as expected from the generating function\n",
    "$$\\frac{1}{\\sqrt{1-2hx+h^2}} = \\sum_{l=0}^\\infty P_l(x) h^l $$"
   ]
  },
  {
   "cell_type": "code",
   "execution_count": null,
   "metadata": {},
   "outputs": [],
   "source": [
    "# Plot multipole potential on polar plot\n",
    "def plotMultipole(l):\n",
    "    nPoints = 500\n",
    "\n",
    "    # Set up coordinate system\n",
    "    theta = np.linspace(-pi,pi,nPoints)\n",
    "    r = np.linspace(0,5,100)\n",
    "    Theta,R = np.meshgrid(theta,r)\n",
    "    ax = plt.subplot(111, projection='polar')\n",
    "    ax.set_theta_zero_location('N')\n",
    "    ax.set_theta_direction(-1)\n",
    "\n",
    "    # Use masked array to allow masking of points close to singularity\n",
    "    R = np.ma.array(R)\n",
    "    R[R<1] = np.ma.masked\n",
    "    \n",
    "    # Calculate Legendre function of order l using scipy function: lpmv(0,1,x)\n",
    "    Z = spc.lpmv(0,l,np.cos(Theta))/np.power(R,l+1)\n",
    "    mycs = ax.contourf(Theta,R,Z,100,vmin=-1,vmax = 1,cmap = cm.seismic)\n",
    "    plt.colorbar(mycs)\n",
    "\n",
    "\n",
    "plotMultipole(2)    \n",
    "plt.show()"
   ]
  },
  {
   "cell_type": "markdown",
   "metadata": {},
   "source": [
    "The full angular dependence is in general given by the product of the associated Legendre polynomial with the appropriate azimuthal dependence, known as the spherical harmonic:\n",
    "\n",
    "$$ Y_l^m(\\theta,\\phi) \\sim P_l^{|m|}(\\cos\\theta)\\, e^{im\\theta} $$\n",
    "\n",
    "with $|m|\\le l$"
   ]
  },
  {
   "cell_type": "code",
   "execution_count": null,
   "metadata": {},
   "outputs": [],
   "source": [
    "# Plot desired spherical harmonic as colour plot on a unit sphere\n",
    "# Copied largely from scipython.com \n",
    "\n",
    "\n",
    "def plotSpherical(m,l):\n",
    "    phi = np.linspace(0, np.pi, 100)\n",
    "    theta = np.linspace(0, 2*np.pi, 100)\n",
    "    phi, theta = np.meshgrid(phi, theta)\n",
    "\n",
    "    # The Cartesian coordinates of the unit sphere\n",
    "    x = np.sin(phi) * np.cos(theta)\n",
    "    y = np.sin(phi) * np.sin(theta)\n",
    "    z = np.cos(phi)\n",
    "\n",
    "    # Calculate the spherical harmonic Y(l,m) and normalize to [0,1]\n",
    "    fcolors = spc.sph_harm(m, l, theta, phi).real\n",
    "    fmax, fmin = fcolors.max(), fcolors.min()\n",
    "    fcolors = (fcolors - fmin)/(fmax - fmin)\n",
    "\n",
    "    # Set the aspect ratio to 1 so our sphere looks spherical\n",
    "    fig = plt.figure(figsize=plt.figaspect(1.))\n",
    "    ax = fig.add_subplot(111, projection='3d')\n",
    "    ax.plot_surface(x, y, z,rstride=2, cstride=2, facecolors=cm.seismic(fcolors))\n",
    "    # Turn off the axis planes\n",
    "    ax.set_axis_off()\n",
    "\n",
    "\n",
    "plotSpherical(m=1,l=2)\n",
    "\n",
    "plt.show()\n"
   ]
  },
  {
   "cell_type": "markdown",
   "metadata": {},
   "source": [
    "## Bessel Functions ##\n",
    "\n",
    "In cylindrical coordinates, the radial part of a Laplace-style PDE will typically be Bessel's equation\n",
    "$$\t\t\n",
    "\t\tx^2\\frac{d^2P}{dx^2}+x\\frac{dP}{dx}+\\left(x^2-m^2\\right)P\n",
    "\t\t= 0\n",
    "$$\n",
    "\n",
    "The solutions of this are known as Bessel functions."
   ]
  },
  {
   "cell_type": "code",
   "execution_count": null,
   "metadata": {},
   "outputs": [],
   "source": [
    "# Plot a few Bessel functions of the first kind\n",
    "\n",
    "def plotBessel(n):\n",
    "    nPoints = 500\n",
    "    xValues = np.linspace(0,10,nPoints)\n",
    "    plt.plot(xValues,spc.jv(n,xValues),label='n='+str(n))\n",
    "    \n",
    "plotBessel(0)\n",
    "plotBessel(1)\n",
    "plotBessel(2)\n",
    "plt.grid()\n",
    "plt.legend()\n",
    "plt.show()"
   ]
  },
  {
   "cell_type": "markdown",
   "metadata": {},
   "source": [
    "## Computing Exercises ##\n",
    "\n",
    "1. Experiment with the parameters n and m for the rectangular membrane to see the effect\n",
    "1. Experiment with the parameters l and m for the Legendre polynomials, multipole expansion and spherical harmonics\n",
    "1. Plot some Bessel functions of different orders (including negative)\n",
    "1. Combine the Bessel function with the azimuthal component to plot full solutions for the circular membrane\n",
    "1. [Advanced] Add the time component to the vibrating membrane examples, to produce an animation showing the full solution for arbitrary modes"
   ]
  },
  {
   "cell_type": "code",
   "execution_count": null,
   "metadata": {},
   "outputs": [],
   "source": []
  }
 ],
 "metadata": {
  "kernelspec": {
   "display_name": "Python 3",
   "language": "python",
   "name": "python3"
  },
  "language_info": {
   "codemirror_mode": {
    "name": "ipython",
    "version": 3
   },
   "file_extension": ".py",
   "mimetype": "text/x-python",
   "name": "python",
   "nbconvert_exporter": "python",
   "pygments_lexer": "ipython3",
   "version": "3.7.6"
  }
 },
 "nbformat": 4,
 "nbformat_minor": 2
}
